{
 "cells": [
  {
   "cell_type": "markdown",
   "metadata": {},
   "source": [
    "## Projeto de Análise de dados - Estatística - Profa. Maria Luísa - ADS III"
   ]
  },
  {
   "cell_type": "markdown",
   "metadata": {},
   "source": [
    "### Alunos:\n",
    "- João Victor Carrijo\n",
    "- Danilo de Andrade\n",
    "- Eloísa Rodrigues"
   ]
  },
  {
   "cell_type": "markdown",
   "metadata": {},
   "source": [
    "### Sobre o projeto\n",
    "Neste trabalho analisaremos uma base de dados envolvendo os dados de vendas de vídeo games\n",
    "\n",
    "Créditos: https://www.kaggle.com/datasets/gregorut/videogamesales"
   ]
  },
  {
   "cell_type": "markdown",
   "metadata": {},
   "source": [
    "### Importação de Bibliotecas"
   ]
  },
  {
   "cell_type": "code",
   "execution_count": 87,
   "metadata": {},
   "outputs": [],
   "source": [
    "import pandas as pd # leitura de dados\n",
    "import numpy as np # cálculos\n",
    "import plotly.express as plt # visualização de dados"
   ]
  },
  {
   "cell_type": "markdown",
   "metadata": {},
   "source": [
    "## Pré-Processamento"
   ]
  },
  {
   "cell_type": "markdown",
   "metadata": {},
   "source": [
    "### Lendo dados e fazendo ajustes iniciais"
   ]
  },
  {
   "cell_type": "code",
   "execution_count": 88,
   "metadata": {},
   "outputs": [],
   "source": [
    "# Lendo os dados\n",
    "df_games = pd.read_csv('games-raw.csv')\n",
    "df_consoles = pd.read_csv('consoles-raw.csv')"
   ]
  },
  {
   "cell_type": "code",
   "execution_count": 89,
   "metadata": {},
   "outputs": [],
   "source": [
    "# Renomeando colunas\n",
    "df_games = df_games.rename(\n",
    "    columns={\n",
    "        'Name':'Titulo',\n",
    "        'Platform':'Plataforma',\n",
    "        'Year':'Ano_lancamento',\n",
    "        'Genre':'Genero',\n",
    "        'Publisher':'Distribuidora',\n",
    "        'NA_Sales':'Vendas_EUA',\n",
    "        'EU_Sales':'Vendas_Europa',\n",
    "        'JP_Sales':'Vendas_JP',\n",
    "        'Other_Sales':'Outras_Vendas',\n",
    "        'Global_Sales':'Vendas_Totais'\n",
    "    }\n",
    ")"
   ]
  },
  {
   "cell_type": "code",
   "execution_count": null,
   "metadata": {},
   "outputs": [],
   "source": [
    "df_consoles = df_consoles.rename(\n",
    "    columns={\n",
    "        'Console Name':'Nome do Console',\n",
    "        'Type':'Tipo',\n",
    "        'Company':'Fabricante',\n",
    "        'Released Year':'Ano de Lançamento',\n",
    "        'Discontinuation Year':'Ano de Descontinuacao',\n",
    "        'Units sold (million)':'Unidades vendidas (Milhões)'\n",
    "    }\n",
    ")\n",
    "df_consoles = df_consoles.drop(columns='Remarks')\n",
    "df_consoles"
   ]
  },
  {
   "cell_type": "markdown",
   "metadata": {},
   "source": [
    "### Identificando e tratando dados nulos"
   ]
  },
  {
   "cell_type": "code",
   "execution_count": null,
   "metadata": {},
   "outputs": [],
   "source": [
    "df_games.info()\n",
    "\n",
    "# Valores Nulos:\n",
    "\n",
    "# Ano_lancamento -> 271\n",
    "# Distribuidora -> 58\n",
    "df_games['Distribuidora'][df_games['Distribuidora'].isna()]"
   ]
  },
  {
   "cell_type": "markdown",
   "metadata": {},
   "source": [
    "Neste dataset, temos alguns dados não contabilizados, ou então não divulgados a respeito dos jogos.\n",
    "A boa prática diz que dados inconsistentes deste tipo devem ser preenchidos com a média da coluna, para que estes não prejudiquem a nossa análise. "
   ]
  },
  {
   "cell_type": "code",
   "execution_count": 92,
   "metadata": {},
   "outputs": [],
   "source": [
    "# Vamos fazer a média do ano de lançamento\n",
    "media_ano = np.round(df_games['Ano_lancamento'].mean())\n",
    "media_ano\n",
    "df_games['Ano_lancamento'] = df_games['Ano_lancamento'].fillna(media_ano)"
   ]
  },
  {
   "cell_type": "code",
   "execution_count": null,
   "metadata": {},
   "outputs": [],
   "source": [
    "df_games.info()"
   ]
  },
  {
   "cell_type": "markdown",
   "metadata": {},
   "source": [
    "## Tratamento Geral"
   ]
  },
  {
   "cell_type": "markdown",
   "metadata": {},
   "source": [
    "### Traduzindo Atributos"
   ]
  },
  {
   "cell_type": "code",
   "execution_count": null,
   "metadata": {},
   "outputs": [],
   "source": [
    "# Gêneros\n",
    "def traduz_genero(x):\n",
    "    if x == 'Sports':\n",
    "        return 'Esportes'\n",
    "    if x == 'Action':\n",
    "        return 'Ação'\n",
    "    if x == 'Simulation':\n",
    "        return 'Simulação'\n",
    "    if x == 'Racing':\n",
    "        return 'Corrida'\n",
    "    if x == 'Platform':\n",
    "        return 'Plataforma'\n",
    "    if x == 'Role-Playing':\n",
    "        return 'RPG'\n",
    "    if x == 'Shooter':\n",
    "        return 'Tiro'\n",
    "    if x == 'Fighting':\n",
    "        return 'Luta'\n",
    "    if x == 'Adventure':\n",
    "        return 'Aventura'\n",
    "    if x == 'Strategy':\n",
    "        return 'Estratégia'\n",
    "    return x\n",
    "    \n",
    "\n",
    "df_games['Genero'] = df_games['Genero'].apply(traduz_genero)\n",
    "df_games['Genero']"
   ]
  },
  {
   "cell_type": "code",
   "execution_count": null,
   "metadata": {},
   "outputs": [],
   "source": [
    "# Tipos de Console\n",
    "def traduz_tipo(x):\n",
    "    if x == 'Home':\n",
    "        return 'De mesa'\n",
    "    if x == 'Handheld':\n",
    "        return 'Portátil'\n",
    "    if x == 'Hybrid':\n",
    "        return 'Híbrido'\n",
    "\n",
    "df_consoles['Tipo'] = df_consoles['Tipo'].apply(traduz_tipo)\n",
    "df_consoles['Tipo']"
   ]
  },
  {
   "cell_type": "markdown",
   "metadata": {},
   "source": [
    "### Agrupando vendas do mesmo jogo em múltiplas plataformas"
   ]
  },
  {
   "cell_type": "code",
   "execution_count": null,
   "metadata": {},
   "outputs": [],
   "source": [
    "all_platforms = df_games.groupby('Titulo').agg({\n",
    "    'Ano_lancamento': lambda x: x.mode()[0], # Pega o dado de maior frequência (moda)\n",
    "    'Genero': lambda x: x.mode(),\n",
    "    'Vendas_Totais':lambda x : np.round(sum(x),2), # Soma tudo e arredonda\n",
    "    'Vendas_JP': lambda x : np.round(sum(x),2),\n",
    "    'Vendas_EUA':lambda x : np.round(sum(x),2),\n",
    "    'Vendas_Europa':lambda x : np.round(sum(x),2),\n",
    "    'Outras_Vendas':lambda x : np.round(sum(x),2)\n",
    "}).reset_index()\n",
    "all_platforms"
   ]
  },
  {
   "cell_type": "code",
   "execution_count": null,
   "metadata": {},
   "outputs": [],
   "source": [
    "all_platforms.sort_values('Vendas_Totais', ascending=False)"
   ]
  },
  {
   "cell_type": "code",
   "execution_count": null,
   "metadata": {},
   "outputs": [],
   "source": [
    "all_platforms.fillna(0)"
   ]
  },
  {
   "cell_type": "markdown",
   "metadata": {},
   "source": [
    "### Adicionando coluna \"geração\""
   ]
  },
  {
   "cell_type": "markdown",
   "metadata": {},
   "source": [
    "A indústria dos vídeogames é dividida por gerações de consoles, a transição entre gerações geralmente ocorre com o lançamento de um novo console com poder de processamento superior a tudo aquilo que já existe no mercado, em especial no que se refere ao poder de processamento.\n",
    "\n",
    "Portanto, podemos realizar um agrupamento baseado em gerações, para que possamos ter uma visão ampla de nossos dados."
   ]
  },
  {
   "cell_type": "code",
   "execution_count": null,
   "metadata": {},
   "outputs": [],
   "source": [
    "# Observação: para uma manipulação eficiente, devemos lidar com uma variável do tipo DataFrame, e não do tipo Series.\n",
    "df_consoles = pd.DataFrame(df_consoles)\n",
    "df_consoles\n",
    "\n",
    "def get_gen(row):\n",
    "    if row['Ano de Lançamento']<1981:\n",
    "        return 2 # Atari \n",
    "    elif row['Ano de Lançamento']<1988:\n",
    "        return 3 # NES e Master System\n",
    "    elif row['Ano de Lançamento']<1994:\n",
    "        return 4 # SNES e Genesis\n",
    "    elif row['Ano de Lançamento']<1998:\n",
    "        return 5 # PS1, Saturn, N64\n",
    "    elif row['Ano de Lançamento']<2005: \n",
    "        return 6 # PS2, DreamCast, XB\n",
    "    elif row['Ano de Lançamento']<2012:   \n",
    "        return 7 # X360, PS3\n",
    "    else: \n",
    "        return 8 # XONE, PS4\n",
    "\n",
    "df_consoles['Geração'] = df_consoles.apply(get_gen, axis=1)\n",
    "df_consoles\n"
   ]
  },
  {
   "cell_type": "markdown",
   "metadata": {},
   "source": [
    "### Adicionando Coluna de \"Duração no mercado\""
   ]
  },
  {
   "cell_type": "code",
   "execution_count": null,
   "metadata": {},
   "outputs": [],
   "source": [
    "df_consoles['Duracao no Mercado'] = df_consoles['Ano de Descontinuacao'] - df_consoles['Ano de Lançamento']\n",
    "# Tratando Gerações atuais:\n",
    "df_consoles['Duracao no Mercado'] = df_consoles['Duracao no Mercado'].apply(lambda x: x if x>0 else x+2024) \n",
    "df_consoles"
   ]
  },
  {
   "cell_type": "markdown",
   "metadata": {},
   "source": [
    "### Corrigindo Coluna Ano do Lançamento"
   ]
  },
  {
   "cell_type": "code",
   "execution_count": null,
   "metadata": {},
   "outputs": [],
   "source": [
    "df_games['Ano_lancamento'] = df_games['Ano_lancamento'].apply(lambda x : f'01-01-{round(x)}')\n",
    "df_games"
   ]
  },
  {
   "cell_type": "markdown",
   "metadata": {},
   "source": []
  },
  {
   "cell_type": "markdown",
   "metadata": {},
   "source": [
    "## Visualização Básica"
   ]
  },
  {
   "cell_type": "code",
   "execution_count": null,
   "metadata": {},
   "outputs": [],
   "source": [
    "# Visualização de dados descritivos das colunas numéricas\n",
    "df_games.describe()"
   ]
  },
  {
   "cell_type": "code",
   "execution_count": 111,
   "metadata": {},
   "outputs": [
    {
     "name": "stdout",
     "output_type": "stream",
     "text": [
      "0.54 0    0.02\n",
      "Name: Vendas_Totais, dtype: float64 0.17\n"
     ]
    }
   ],
   "source": [
    "print(np.round(df_games['Vendas_Totais'].mean(),2), df_games['Vendas_Totais'].mode(), df_games['Vendas_Totais'].median())"
   ]
  },
  {
   "cell_type": "code",
   "execution_count": null,
   "metadata": {},
   "outputs": [],
   "source": [
    "# Visualizando jogo com maior quantidade de vendas no total\n",
    "mais_vendas = df_games['Vendas_Totais'] >= 82.74\n",
    "df_games[mais_vendas]"
   ]
  },
  {
   "cell_type": "code",
   "execution_count": null,
   "metadata": {},
   "outputs": [],
   "source": [
    "# Visualizando jogo(s) com menor venda nos EUA\n",
    "pior_avaliacao = df_games['Vendas_EUA'] <= 0.0\n",
    "df_games[pior_avaliacao]"
   ]
  },
  {
   "cell_type": "code",
   "execution_count": null,
   "metadata": {},
   "outputs": [],
   "source": [
    "# Retornando valores únicos\n",
    "np.unique(df_games['Plataforma']), np.unique(df_consoles['ID'])\n"
   ]
  },
  {
   "cell_type": "code",
   "execution_count": null,
   "metadata": {},
   "outputs": [],
   "source": [
    "# Buscando...\n",
    "jogo = df_games['Titulo'] == 'Grand Theft Auto: San Andreas'\n",
    "df_games[jogo]"
   ]
  },
  {
   "cell_type": "markdown",
   "metadata": {},
   "source": [
    "Neste dataset, temos alguns dados não contabilizados, ou então não divulgados a respeito dos jogos.\n",
    "A boa prática diz que dados inconsistentes deste tipo devem ser preenchidos com a média da coluna, para que estes não prejudiquem a nossa análise. "
   ]
  },
  {
   "cell_type": "markdown",
   "metadata": {},
   "source": [
    "### Visualizando a dispersão"
   ]
  },
  {
   "cell_type": "markdown",
   "metadata": {},
   "source": [
    "Agora que resolvemos alguns problemas do dataset, vamos visualizar alguns gráficos para conferir se ainda restam outliers."
   ]
  },
  {
   "cell_type": "code",
   "execution_count": null,
   "metadata": {},
   "outputs": [],
   "source": [
    "pd.DataFrame.iteritems = pd.DataFrame.items # Na última atualização do pandas, o método \"iteritems\", que ainda é utilizado\n",
    "# pelo plotly trocou de nome, por tanto essa atrivbuição resolverá um bug na comunicação da duas biblioteca. \n",
    "\n",
    "# Vendas totais x Críticas x Vendas EUA X Vendas Japão \n",
    "plt.scatter_matrix(df_games, dimensions=['Vendas_Totais','Vendas_JP','Vendas_Europa', 'Vendas_EUA'])"
   ]
  },
  {
   "cell_type": "markdown",
   "metadata": {},
   "source": [
    "### Insights Prévios"
   ]
  },
  {
   "cell_type": "code",
   "execution_count": null,
   "metadata": {},
   "outputs": [],
   "source": [
    "# Gênero por console\n",
    "plt.treemap(df_games, path=['Genero', 'Plataforma'])"
   ]
  },
  {
   "cell_type": "code",
   "execution_count": null,
   "metadata": {},
   "outputs": [],
   "source": [
    "# Gênero por vendas totais\n",
    "plt.pie(df_games,names='Genero',values='Vendas_Totais')"
   ]
  },
  {
   "cell_type": "code",
   "execution_count": null,
   "metadata": {},
   "outputs": [],
   "source": [
    "# Score por Console\n",
    "plt.bar(df_games,x='Plataforma',y='Vendas_Totais')\n"
   ]
  },
  {
   "cell_type": "markdown",
   "metadata": {},
   "source": [
    "## Exportando dados para um arquivo CSV"
   ]
  },
  {
   "cell_type": "code",
   "execution_count": 118,
   "metadata": {},
   "outputs": [],
   "source": [
    "df_games.to_csv('games-Final.csv', index=False)\n",
    "df_consoles.to_csv('consoles-Final.csv', index=False)\n",
    "all_platforms.to_csv('all-platforms.csv', index=False)"
   ]
  }
 ],
 "metadata": {
  "kernelspec": {
   "display_name": "base",
   "language": "python",
   "name": "python3"
  },
  "language_info": {
   "codemirror_mode": {
    "name": "ipython",
    "version": 3
   },
   "file_extension": ".py",
   "mimetype": "text/x-python",
   "name": "python",
   "nbconvert_exporter": "python",
   "pygments_lexer": "ipython3",
   "version": "3.12.0"
  }
 },
 "nbformat": 4,
 "nbformat_minor": 2
}
